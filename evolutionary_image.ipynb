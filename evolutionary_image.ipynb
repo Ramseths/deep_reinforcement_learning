{
 "cells": [
  {
   "cell_type": "code",
   "execution_count": 1,
   "metadata": {},
   "outputs": [],
   "source": [
    "import random\n",
    "import numpy as np\n",
    "from deap import algorithms\n",
    "from deap import base\n",
    "from deap import creator\n",
    "from deap import tools\n",
    "import os\n",
    "import cv2\n",
    "import urllib.request\n",
    "import matplotlib.pyplot as plt\n",
    "from IPython.display import clear_output\n",
    "from skimage.metrics import structural_similarity as ss\n",
    "import utils"
   ]
  },
  {
   "cell_type": "markdown",
   "metadata": {},
   "source": [
    "### Principal functions"
   ]
  },
  {
   "cell_type": "code",
   "execution_count": 2,
   "metadata": {},
   "outputs": [],
   "source": [
    "# load image from url\n",
    "def load_target_image(image_url, color=True, size=None):\n",
    "  image_path = \"target_image\"    \n",
    "  urllib.request.urlretrieve(image_url,image_path)\n",
    "  # Apply color\n",
    "  if color:\n",
    "      target = cv2.imread(image_path, cv2.IMREAD_COLOR)\n",
    "      target = cv2.cvtColor(target, cv2.COLOR_BGR2RGB)\n",
    "  else:\n",
    "      # Apply gray scale\n",
    "      target = cv2.imread(image_path, cv2.IMREAD_GRAYSCALE)\n",
    "\n",
    "  if size:\n",
    "      # Only resizes image if it is needed!\n",
    "      target = cv2.resize(src=target, dsize=size, interpolation=cv2.INTER_AREA)\n",
    "  return target"
   ]
  },
  {
   "cell_type": "code",
   "execution_count": 3,
   "metadata": {},
   "outputs": [],
   "source": [
    "# Helps to show image\n",
    "def show_image(img_arr):    \n",
    "  plt.figure(figsize=(6, 6))\n",
    "  plt.axis(\"off\")\n",
    "  plt.imshow(img_arr/255)\n",
    "  plt.show()"
   ]
  },
  {
   "cell_type": "code",
   "execution_count": 4,
   "metadata": {},
   "outputs": [],
   "source": [
    "# Show results\n",
    "def show_results(history, img_arr, org):\n",
    "  plt.figure(figsize=(10,10))\n",
    "  plt.tight_layout()\n",
    "\n",
    "  plt.subplot(221)\n",
    "  plt.axis(\"off\")\n",
    "  plt.imshow(img_arr/255)\n",
    "  plt.title('BEST of generation')\n",
    "\n",
    "  plt.subplot(222)\n",
    "  plt.axis(\"off\")\n",
    "  plt.imshow(org/255)\n",
    "  plt.title('Target image')\n",
    "\n",
    "  plt.subplot(212)\n",
    "  lh = len(history)\n",
    "  plt.xlim([lh-50, lh])\n",
    "  plt.plot(history)\n",
    "  plt.title('MIN fitness by generation') \n",
    "  plt.show()"
   ]
  },
  {
   "cell_type": "code",
   "execution_count": 5,
   "metadata": {},
   "outputs": [
    {
     "data": {
      "image/png": "[encoded data removed]",
      "text/plain": [
       "<Figure size 600x600 with 1 Axes>"
      ]
     },
     "metadata": {},
     "output_type": "display_data"
    },
    {
     "name": "stdout",
     "output_type": "stream",
     "text": [
      "(32, 32, 3)\n"
     ]
    }
   ],
   "source": [
    "report_every_gen = 10\n",
    "number_generations = 1000\n",
    "polygons = 255\n",
    "size = 32\n",
    "target_image = \"Art\"\n",
    "\n",
    "\n",
    "POLYGONS = polygons\n",
    "SIZE = (size, size)\n",
    "\n",
    "target_urls = utils.target_urls\n",
    "\n",
    "target_image_url = target_urls[target_image]\n",
    "target = load_target_image(target_image_url, size=SIZE)\n",
    "show_image(target)\n",
    "print(target.shape)"
   ]
  },
  {
   "cell_type": "code",
   "execution_count": 6,
   "metadata": {},
   "outputs": [
    {
     "name": "stdout",
     "output_type": "stream",
     "text": [
      "[0.27005657 0.25756022 0.71934897 ... 0.12663306 0.60161862 0.43699425]\n"
     ]
    }
   ],
   "source": [
    "GENE_LENGTH = 10\n",
    "NUM_GENES = POLYGONS * GENE_LENGTH\n",
    "\n",
    "# Create individual\n",
    "individual = np.random.uniform(0,1,NUM_GENES)\n",
    "print(individual)"
   ]
  },
  {
   "cell_type": "code",
   "execution_count": 7,
   "metadata": {},
   "outputs": [],
   "source": [
    "def extract_genes(genes, length): \n",
    "    for i in range(0, len(genes), length): \n",
    "        yield genes[i:i + length]"
   ]
  },
  {
   "cell_type": "code",
   "execution_count": 8,
   "metadata": {},
   "outputs": [],
   "source": [
    "def render_individual(individual):\n",
    "  if isinstance(individual,list):\n",
    "    individual = np.array(individual)\n",
    "  canvas = np.zeros(SIZE+(3,))\n",
    "  radius_avg = (SIZE[0] + SIZE[1]) / 2 / 6\n",
    "  genes = extract_genes(individual, GENE_LENGTH)\n",
    "  for gene in genes:\n",
    "    try:\n",
    "      overlay = canvas.copy()\n",
    "      x1 = int(gene[0] * SIZE[0])\n",
    "      x2 = int(gene[2] * SIZE[0])\n",
    "      x3 = int(gene[4] * SIZE[0])\n",
    "      y1 = int(gene[1] * SIZE[1])\n",
    "      y2 = int(gene[3] * SIZE[1])\n",
    "      y3 = int(gene[5] * SIZE[1])\n",
    "      color = (gene[6:-1] * 255).astype(int).tolist() \n",
    "      pts = np.array([[x1,y1],[x2,y2],[x3,y3]], np.int32)  \n",
    "      pts = pts.reshape((-1, 1, 2))\n",
    "      pts = np.array([[x1,y1],[x2,y2],[x3,y3]])\n",
    "\n",
    "      cv2.fillPoly(overlay, [pts], color)\n",
    "      alpha = gene[-1]\n",
    "      canvas = cv2.addWeighted(overlay, alpha, canvas, 1 - alpha, 0)  \n",
    "    except:\n",
    "      pass\n",
    "  return canvas"
   ]
  },
  {
   "cell_type": "code",
   "execution_count": 9,
   "metadata": {},
   "outputs": [
    {
     "data": {
      "image/png": "[encoded data removed]",
      "text/plain": [
       "<Figure size 600x600 with 1 Axes>"
      ]
     },
     "metadata": {},
     "output_type": "display_data"
    }
   ],
   "source": [
    "# Show individual\n",
    "render = render_individual(individual)\n",
    "show_image(render)"
   ]
  },
  {
   "cell_type": "markdown",
   "metadata": {},
   "source": [
    "### Metrics"
   ]
  },
  {
   "cell_type": "code",
   "execution_count": 10,
   "metadata": {},
   "outputs": [],
   "source": [
    "def fitness_mse(render):\n",
    "  \"\"\"Calculates Mean Square Error Fitness for a render\"\"\"\n",
    "  error = (np.square(render - target)).mean(axis=None)\n",
    "  return error"
   ]
  },
  {
   "cell_type": "code",
   "execution_count": 11,
   "metadata": {},
   "outputs": [],
   "source": [
    "def fitness_ss(render):\n",
    "  \"\"\"Calculated Structural Similiarity Fitness\"\"\"\n",
    "  index = ss(render, target, multichannel=True)\n",
    "  return 1-index"
   ]
  },
  {
   "cell_type": "code",
   "execution_count": 12,
   "metadata": {},
   "outputs": [
    {
     "name": "stdout",
     "output_type": "stream",
     "text": [
      "5680.535282674317\n"
     ]
    }
   ],
   "source": [
    "print(fitness_mse(render))"
   ]
  },
  {
   "cell_type": "code",
   "execution_count": 13,
   "metadata": {},
   "outputs": [],
   "source": [
    "# Apply Hyperparameters\n",
    "IND_SIZE = NUM_GENES\n",
    "MIN_VALUE = -1\n",
    "MAX_VALUE = 1\n",
    "MIN_STRATEGY = 0.5\n",
    "MAX_STRATEGY = 5\n",
    "\n",
    "CXPB = .6\n",
    "MUTPB = .3"
   ]
  },
  {
   "cell_type": "markdown",
   "metadata": {},
   "source": [
    "### Setting up creator"
   ]
  },
  {
   "cell_type": "code",
   "execution_count": 14,
   "metadata": {},
   "outputs": [],
   "source": [
    "creator.create(\"FitnessMin\", base.Fitness, weights=(-1.0,))\n",
    "creator.create(\"Individual\", list, typecode=\"d\", fitness=creator.FitnessMin, strategy=None)\n",
    "creator.create(\"Strategy\", list, typecode=\"d\")"
   ]
  },
  {
   "cell_type": "code",
   "execution_count": 15,
   "metadata": {},
   "outputs": [],
   "source": [
    "\n",
    "def generateES(icls, scls, size, imin, imax, smin, smax):  \n",
    "  ind = icls(random.uniform(imin, imax) for _ in range(size))  \n",
    "  ind.strategy = scls(random.uniform(smin, smax) for _ in range(size))  \n",
    "  return ind\n",
    "\n",
    "def checkStrategy(minstrategy):\n",
    "  def decorator(func):\n",
    "    def wrappper(*args, **kargs):\n",
    "      children = func(*args, **kargs)\n",
    "      for child in children:\n",
    "        for i, s in enumerate(child.strategy):\n",
    "          if s < minstrategy:\n",
    "            child.strategy[i] = minstrategy\n",
    "      return children\n",
    "    return wrappper\n",
    "  return decorator"
   ]
  },
  {
   "cell_type": "code",
   "execution_count": 16,
   "metadata": {},
   "outputs": [],
   "source": [
    "\n",
    "def uniform(low, up, size=None):\n",
    "  try:\n",
    "    return [random.uniform(a, b) for a, b in zip(low, up)]\n",
    "  except TypeError:\n",
    "    return [random.uniform(a, b) for a, b in zip([low] * size, [up] * size)]"
   ]
  },
  {
   "cell_type": "code",
   "execution_count": 17,
   "metadata": {},
   "outputs": [],
   "source": [
    "\n",
    "def clamp(low, up, n):\n",
    "  return max(low, min(n, up))\n",
    "\n",
    "def custom_blend(ind1, ind2, alpha):    \n",
    "    for i, (x1, s1, x2, s2) in enumerate(zip(ind1, ind1.strategy,\n",
    "                                             ind2, ind2.strategy)):\n",
    "        # Blend the values\n",
    "        gamma = (1. + 2. * alpha) * random.random() - alpha\n",
    "        ind1[i] = clamp(0.0, 1.0, (1. - gamma) * x1 + gamma * x2)\n",
    "        ind2[i] = clamp(0.0, 1.0, gamma * x1 + (1. - gamma) * x2)\n",
    "        # Blend the strategies\n",
    "        gamma = (1. + 2. * alpha) * random.random() - alpha\n",
    "        ind1.strategy[i] = (1. - gamma) * s1 + gamma * s2\n",
    "        ind2.strategy[i] = gamma * s1 + (1. - gamma) * s2\n",
    "        \n",
    "\n",
    "    return ind1, ind2"
   ]
  },
  {
   "cell_type": "code",
   "execution_count": 18,
   "metadata": {},
   "outputs": [],
   "source": [
    "toolbox = base.Toolbox()\n",
    "toolbox.register(\"individual\", generateES, creator.Individual, creator.Strategy,\n",
    "    IND_SIZE, MIN_VALUE, MAX_VALUE, MIN_STRATEGY, MAX_STRATEGY)\n",
    "toolbox.register(\"population\", tools.initRepeat, list, toolbox.individual)\n",
    "toolbox.register(\"mate\", custom_blend, alpha=0.5)\n",
    "toolbox.register(\"mutate\", tools.mutESLogNormal, c=1.0, indpb=0.06)\n",
    "\n",
    "# Register the \"select\" alias to a tournament selection function ('tools.selTournament') with a tournament size of 5.\n",
    "# This function is used to select individuals from the population based on their fitness.\n",
    "toolbox.register(\"select\", tools.selTournament, tournsize=5)\n",
    "\n",
    "toolbox.decorate(\"mate\", checkStrategy(MIN_STRATEGY))\n",
    "toolbox.decorate(\"mutate\", checkStrategy(MIN_STRATEGY))"
   ]
  },
  {
   "cell_type": "code",
   "execution_count": 19,
   "metadata": {},
   "outputs": [],
   "source": [
    "\n",
    "def evaluate(individual):\n",
    "  render = render_individual(individual)\n",
    "  print('.', end='')\n",
    "  return fitness_mse(render),"
   ]
  },
  {
   "cell_type": "code",
   "execution_count": 20,
   "metadata": {},
   "outputs": [],
   "source": [
    "toolbox.register(\"evaluate\", evaluate)"
   ]
  },
  {
   "cell_type": "code",
   "execution_count": 21,
   "metadata": {},
   "outputs": [],
   "source": [
    "\n",
    "random.seed(64)\n",
    "    \n",
    "NGEN = number_generations\n",
    "RGEN = report_every_gen\n",
    "CXPB = .6\n",
    "MUTPB = .3\n",
    "MU, LAMBDA = 100, 250\n",
    "pop = toolbox.population(n=MU)\n",
    "hof = tools.HallOfFame(1)\n",
    "stats = tools.Statistics(lambda ind: ind.fitness.values)\n",
    "stats.register(\"avg\", np.mean)\n",
    "stats.register(\"std\", np.std)\n",
    "stats.register(\"min\", np.min)\n",
    "stats.register(\"max\", np.max) "
   ]
  },
  {
   "cell_type": "code",
   "execution_count": 22,
   "metadata": {},
   "outputs": [
    {
     "name": "stdout",
     "output_type": "stream",
     "text": [
      "............................................................................................................................................................................................................................................................................................................................................................................................................................................................................................................................................................................................................................................................................................................................................................................................................................................................................................................................................................................................................................................................................................................................................................................................................................................................................................................................................................................................................................................................................................................................................................................................................................................................................................................................................................................................................................................................................................................................................................................................................................................................................................................................................................................................................................................................................................................................................"
     ]
    },
    {
     "data": {
      "image/png": "[encoded data removed]",
      "text/plain": [
       "<Figure size 600x600 with 1 Axes>"
      ]
     },
     "metadata": {},
     "output_type": "display_data"
    },
    {
     "name": "stdout",
     "output_type": "stream",
     "text": [
      "Gen (30) : best fitness = 1324.7742964045242\n"
     ]
    }
   ],
   "source": [
    "best = None\n",
    "history = []\n",
    "\n",
    "for g in range(NGEN):\n",
    "    clear_output(wait=True)  # Limpiar la salida antes de mostrar la nueva imagen y resultados\n",
    "  \n",
    "    pop, logbook = algorithms.eaMuCommaLambda(\n",
    "        pop, toolbox, mu=MU, lambda_=LAMBDA, \n",
    "        cxpb = CXPB, mutpb=MUTPB, ngen=RGEN, stats=stats, \n",
    "        halloffame=hof, verbose=False\n",
    "    )\n",
    "  \n",
    "    best = hof[0]\n",
    "\n",
    "    render = render_individual(best)\n",
    "    show_image(render)\n",
    "    history.extend([clamp(0.0, 5000.0, l[\"min\"]) for l in logbook])\n",
    "    # show_results(history, render, target)\n",
    "    print(f\"Gen ({(g+1)*RGEN}) : best fitness = {fitness_mse(render)}\")"
   ]
  }
 ],
 "metadata": {
  "kernelspec": {
   "display_name": "evo",
   "language": "python",
   "name": "python3"
  },
  "language_info": {
   "codemirror_mode": {
    "name": "ipython",
    "version": 3
   },
   "file_extension": ".py",
   "mimetype": "text/x-python",
   "name": "python",
   "nbconvert_exporter": "python",
   "pygments_lexer": "ipython3",
   "version": "3.8.18"
  },
  "orig_nbformat": 4
 },
 "nbformat": 4,
 "nbformat_minor": 2
}
