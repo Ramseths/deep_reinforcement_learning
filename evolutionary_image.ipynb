{
 "cells": [
  {
   "cell_type": "code",
   "execution_count": 1,
   "metadata": {},
   "outputs": [],
   "source": [
    "import random\n",
    "import numpy as np\n",
    "\n",
    "from deap import algorithms\n",
    "from deap import base\n",
    "from deap import creator\n",
    "from deap import tools\n",
    "\n",
    "import os\n",
    "import cv2\n",
    "import urllib.request\n",
    "import matplotlib.pyplot as plt\n",
    "from IPython.display import clear_output"
   ]
  },
  {
   "cell_type": "code",
   "execution_count": null,
   "metadata": {},
   "outputs": [],
   "source": [
    "# load image from url\n",
    "def load_target_image(image_url, color=True, size=None):\n",
    "  image_path = \"target_image\"    \n",
    "  urllib.request.urlretrieve(image_url,image_path)\n",
    "  # Apply color\n",
    "  if color:\n",
    "      target = cv2.imread(image_path, cv2.IMREAD_COLOR)\n",
    "      target = cv2.cvtColor(target, cv2.COLOR_BGR2RGB)\n",
    "  else:\n",
    "      # Apply gray scale\n",
    "      target = cv2.imread(image_path, cv2.IMREAD_GRAYSCALE)\n",
    "\n",
    "  if size:\n",
    "      # Only resizes image if it is needed!\n",
    "      target = cv2.resize(src=target, dsize=size, interpolation=cv2.INTER_AREA)\n",
    "  return target"
   ]
  }
 ],
 "metadata": {
  "kernelspec": {
   "display_name": "evo",
   "language": "python",
   "name": "python3"
  },
  "language_info": {
   "codemirror_mode": {
    "name": "ipython",
    "version": 3
   },
   "file_extension": ".py",
   "mimetype": "text/x-python",
   "name": "python",
   "nbconvert_exporter": "python",
   "pygments_lexer": "ipython3",
   "version": "3.8.18"
  },
  "orig_nbformat": 4
 },
 "nbformat": 4,
 "nbformat_minor": 2
}
